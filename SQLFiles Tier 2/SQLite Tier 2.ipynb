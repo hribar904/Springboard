{
 "cells": [
  {
   "cell_type": "code",
   "execution_count": 72,
   "id": "99c506ed",
   "metadata": {},
   "outputs": [],
   "source": [
    "import sqlite3"
   ]
  },
  {
   "cell_type": "code",
   "execution_count": 73,
   "id": "a5db10e6",
   "metadata": {},
   "outputs": [],
   "source": [
    "con = sqlite3.connect('sqlite_db_pythonsqlite.db')"
   ]
  },
  {
   "cell_type": "code",
   "execution_count": 74,
   "id": "b5b77d94",
   "metadata": {},
   "outputs": [],
   "source": [
    "c = con.cursor()"
   ]
  },
  {
   "cell_type": "code",
   "execution_count": 75,
   "id": "0d22cd6f",
   "metadata": {},
   "outputs": [],
   "source": [
    "# /* Q10: Produce a list of facilities with a total revenue less than 1000.\n",
    "# The output of facility name and total revenue, sorted by revenue. Remember\n",
    "# that there's a different cost for guests and members! */"
   ]
  },
  {
   "cell_type": "code",
   "execution_count": 76,
   "id": "5a18cd4b",
   "metadata": {},
   "outputs": [
    {
     "data": {
      "text/plain": [
       "<sqlite3.Cursor at 0x2356fe36c00>"
      ]
     },
     "execution_count": 76,
     "metadata": {},
     "output_type": "execute_result"
    }
   ],
   "source": [
    "c.execute('''\n",
    "WITH tempCost (name, Cost) as\n",
    "    (SELECT name,\n",
    "        CASE\n",
    "            WHEN m.memid = 0 THEN guestcost * slots\n",
    "            WHEN m.memid != 0 THEN membercost * slots\n",
    "        END AS Cost\n",
    "    FROM Facilities, Members AS m, Bookings)\n",
    "    SELECT name, SUM(Cost)\n",
    "    FROM tempCost\n",
    "    GROUP BY name;\n",
    "''')"
   ]
  },
  {
   "cell_type": "code",
   "execution_count": 77,
   "id": "58b13dc7",
   "metadata": {},
   "outputs": [
    {
     "data": {
      "text/plain": [
       "[('Badminton Court', 142460.5),\n",
       " ('Massage Room 1', 3465006.9999971204),\n",
       " ('Massage Room 2', 3465006.9999971204),\n",
       " ('Pool Table', 45955),\n",
       " ('Snooker Table', 45955),\n",
       " ('Squash Court', 1125897.5),\n",
       " ('Table Tennis', 45955),\n",
       " ('Tennis Court 1', 1608425),\n",
       " ('Tennis Court 2', 1608425)]"
      ]
     },
     "execution_count": 77,
     "metadata": {},
     "output_type": "execute_result"
    }
   ],
   "source": [
    "c.fetchall()"
   ]
  },
  {
   "cell_type": "code",
   "execution_count": 78,
   "id": "07709ada",
   "metadata": {},
   "outputs": [],
   "source": [
    "# /* Q11: Produce a report of members and who recommended them in alphabetic surname,firstname order */"
   ]
  },
  {
   "cell_type": "code",
   "execution_count": 79,
   "id": "5f21ece5",
   "metadata": {},
   "outputs": [
    {
     "data": {
      "text/plain": [
       "<sqlite3.Cursor at 0x2356fe36c00>"
      ]
     },
     "execution_count": 79,
     "metadata": {},
     "output_type": "execute_result"
    }
   ],
   "source": [
    "c.execute('''\n",
    "SELECT m2.surname, m2.firstname, m.surname AS Recommended, m.firstname\n",
    "FROM Members as m\n",
    "JOIN Members as m2 ON m.memid = m2.recommendedby\n",
    "ORDER BY m2.surname;\n",
    "''')"
   ]
  },
  {
   "cell_type": "code",
   "execution_count": 80,
   "id": "48fcbf4d",
   "metadata": {},
   "outputs": [
    {
     "data": {
      "text/plain": [
       "[('Bader', 'Florence', 'Stibbons', 'Ponder'),\n",
       " ('Baker', 'Anne', 'Stibbons', 'Ponder'),\n",
       " ('Baker', 'Timothy', 'Farrell', 'Jemima'),\n",
       " ('Boothe', 'Tim', 'Rownam', 'Tim'),\n",
       " ('Butters', 'Gerald', 'Smith', 'Darren')]"
      ]
     },
     "execution_count": 80,
     "metadata": {},
     "output_type": "execute_result"
    }
   ],
   "source": [
    "c.fetchmany(5)"
   ]
  },
  {
   "cell_type": "code",
   "execution_count": 81,
   "id": "411f2e89",
   "metadata": {},
   "outputs": [],
   "source": [
    "# /* Q12: Find the facilities with their usage by member, but not guests */"
   ]
  },
  {
   "cell_type": "code",
   "execution_count": 252,
   "id": "5490795e",
   "metadata": {},
   "outputs": [
    {
     "data": {
      "text/plain": [
       "[(0, 'Tennis Court 1', 19751),\n",
       " (1, 'Tennis Court 2', 19415),\n",
       " (2, 'Badminton Court', 18863),\n",
       " (3, 'Table Tennis', 15831),\n",
       " (4, 'Massage Room 1', 20423),\n",
       " (5, 'Massage Room 2', 11015),\n",
       " (6, 'Squash Court', 18023),\n",
       " (7, 'Snooker Table', 16455),\n",
       " (8, 'Pool Table', 16471)]"
      ]
     },
     "execution_count": 252,
     "metadata": {},
     "output_type": "execute_result"
    }
   ],
   "source": [
    "sql = '''\n",
    "SELECT f.facid, f.name, SUM(slots)\n",
    "FROM Bookings as b, Facilities as f\n",
    "LEFT JOIN Facilities ON f.facid = b.facid\n",
    "GROUP BY f.name\n",
    "HAVING memid != 0\n",
    "ORDER BY f.facid\n",
    ";\n",
    "'''\n",
    "c.execute(sql)\n",
    "c.fetchall()"
   ]
  },
  {
   "cell_type": "code",
   "execution_count": null,
   "id": "e45df350",
   "metadata": {},
   "outputs": [],
   "source": [
    "# /* Q13: Find the facilities usage by month, but not guests */"
   ]
  },
  {
   "cell_type": "code",
   "execution_count": 275,
   "id": "c7d057d0",
   "metadata": {},
   "outputs": [
    {
     "data": {
      "text/plain": [
       "<sqlite3.Cursor at 0x2356fe36c00>"
      ]
     },
     "execution_count": 275,
     "metadata": {},
     "output_type": "execute_result"
    }
   ],
   "source": [
    "c.execute('''\n",
    "SELECT f.facid, f.name, SUM(slots), SUBSTRING(starttime, 6, 2) AS month\n",
    "FROM Bookings as b, Facilities as f\n",
    "LEFT JOIN Facilities ON f.facid = b.facid\n",
    "GROUP BY month, f.name\n",
    "HAVING memid != 0\n",
    "ORDER BY f.facid\n",
    ";\n",
    "''')"
   ]
  },
  {
   "cell_type": "code",
   "execution_count": 276,
   "id": "50a4d18f",
   "metadata": {},
   "outputs": [
    {
     "data": {
      "text/plain": [
       "[(0, 'Tennis Court 1', 3646, '07'),\n",
       " (0, 'Tennis Court 1', 6999, '08'),\n",
       " (1, 'Tennis Court 2', 3142, '07'),\n",
       " (1, 'Tennis Court 2', 7191, '08'),\n",
       " (2, 'Badminton Court', 2926, '07'),\n",
       " (2, 'Badminton Court', 6999, '08'),\n",
       " (3, 'Table Tennis', 2318, '07'),\n",
       " (3, 'Table Tennis', 5759, '08'),\n",
       " (4, 'Massage Room 1', 3598, '07'),\n",
       " (4, 'Massage Room 1', 7263, '08'),\n",
       " (5, 'Massage Room 2', 1678, '07'),\n",
       " (5, 'Massage Room 2', 3983, '08'),\n",
       " (6, 'Squash Court', 2798, '07'),\n",
       " (6, 'Squash Court', 6527, '08'),\n",
       " (7, 'Snooker Table', 2734, '07'),\n",
       " (7, 'Snooker Table', 5935, '08'),\n",
       " (8, 'Pool Table', 2422, '07'),\n",
       " (8, 'Pool Table', 5903, '08')]"
      ]
     },
     "execution_count": 276,
     "metadata": {},
     "output_type": "execute_result"
    }
   ],
   "source": [
    "c.fetchall()"
   ]
  },
  {
   "cell_type": "code",
   "execution_count": 277,
   "id": "3e680f7d",
   "metadata": {},
   "outputs": [],
   "source": [
    "con.commit()"
   ]
  },
  {
   "cell_type": "code",
   "execution_count": 278,
   "id": "161697be",
   "metadata": {},
   "outputs": [],
   "source": [
    "con.close()"
   ]
  }
 ],
 "metadata": {
  "kernelspec": {
   "display_name": "Python 3 (ipykernel)",
   "language": "python",
   "name": "python3"
  },
  "language_info": {
   "codemirror_mode": {
    "name": "ipython",
    "version": 3
   },
   "file_extension": ".py",
   "mimetype": "text/x-python",
   "name": "python",
   "nbconvert_exporter": "python",
   "pygments_lexer": "ipython3",
   "version": "3.9.12"
  }
 },
 "nbformat": 4,
 "nbformat_minor": 5
}
